{
  "nbformat": 4,
  "nbformat_minor": 0,
  "metadata": {
    "colab": {
      "name": "Poison Mushroom Classification.ipynb",
      "provenance": []
    },
    "kernelspec": {
      "name": "python3",
      "display_name": "Python 3"
    }
  },
  "cells": [
    {
      "cell_type": "markdown",
      "metadata": {
        "id": "gRLQ8x4qYx7m"
      },
      "source": [
        "#importing Libraries \n"
      ]
    },
    {
      "cell_type": "code",
      "metadata": {
        "id": "mMtvbjEJY9xb"
      },
      "source": [
        "import numpy as np\n",
        "import pandas as pd\n",
        "import matplotlib.pyplot as plt\n",
        "import seaborn as sns"
      ],
      "execution_count": 5,
      "outputs": []
    },
    {
      "cell_type": "markdown",
      "metadata": {
        "id": "RfD9H6AGY-J0"
      },
      "source": [
        "# Importing the dataset\n"
      ]
    },
    {
      "cell_type": "code",
      "metadata": {
        "id": "poQv-0teZA9Q"
      },
      "source": [
        "dataset= pd.read_csv('mushrooms.csv')\n",
        "X=dataset.iloc[:,1:].values\n",
        "y=dataset.iloc[:,0].values"
      ],
      "execution_count": 6,
      "outputs": []
    },
    {
      "cell_type": "markdown",
      "metadata": {
        "id": "1t4rKF2fZBpa"
      },
      "source": [
        "#Encode categorical data \n"
      ]
    },
    {
      "cell_type": "code",
      "metadata": {
        "id": "aBvXFLTqZFRR"
      },
      "source": [
        "from sklearn.preprocessing import LabelEncoder, OneHotEncoder\n",
        "onehotencoder=OneHotEncoder()\n",
        "X=onehotencoder.fit_transform(X).toarray()\n",
        "label_y=LabelEncoder()\n",
        "y=label_y.fit_transform(y)"
      ],
      "execution_count": 7,
      "outputs": []
    },
    {
      "cell_type": "markdown",
      "metadata": {
        "id": "4Pse9LzUZFv9"
      },
      "source": [
        "# Feature Scaling\n"
      ]
    },
    {
      "cell_type": "code",
      "metadata": {
        "id": "0Xzo_pSSZKHO"
      },
      "source": [
        "from sklearn.preprocessing import StandardScaler\n",
        "sc=StandardScaler()\n",
        "X=sc.fit_transform(X)"
      ],
      "execution_count": 8,
      "outputs": []
    },
    {
      "cell_type": "markdown",
      "metadata": {
        "id": "1ZDZ_1IdZKfe"
      },
      "source": [
        "# Splitting the dataset into the Training set and Test set\n"
      ]
    },
    {
      "cell_type": "code",
      "metadata": {
        "id": "xPn_dnvEZNBI"
      },
      "source": [
        "from sklearn.model_selection import train_test_split\n",
        "X_train, X_test, y_train, y_test = train_test_split(X, y, test_size = 0.2, random_state = 44)\n",
        "train_scores = []\n",
        "test_scores = []"
      ],
      "execution_count": 9,
      "outputs": []
    },
    {
      "cell_type": "markdown",
      "metadata": {
        "id": "ySJb2CWAZOFf"
      },
      "source": [
        "# Training the Logistic Regression model on the Training set\n"
      ]
    },
    {
      "cell_type": "code",
      "metadata": {
        "id": "_bP_xO3mZQhP",
        "outputId": "a652a73e-406f-4e9f-a691-870b103ab7ac",
        "colab": {
          "base_uri": "https://localhost:8080/",
          "height": 330
        }
      },
      "source": [
        "from sklearn.linear_model import LogisticRegression\n",
        "classifier=LogisticRegression(random_state=0)\n",
        "classifier.fit(X_train,y_train)\n",
        "\n",
        "#calculate the details Logistic Regression\n",
        "print('train_score classifier',classifier.score(X_train,y_train))\n",
        "print('test_score classifier',classifier.score(X_test,y_test))\n",
        "\n",
        "train_scores.append(classifier.score(X_train,y_train))\n",
        "test_scores.append(classifier.score(X_test,y_test))\n",
        "\n",
        "# Predicting the Test set results\n",
        "y_pred = classifier.predict(X_test)\n",
        "\n",
        "\n",
        "# Making the Confusion Matrix\n",
        "from sklearn.metrics import confusion_matrix\n",
        "cm = confusion_matrix(y_test,y_pred)\n",
        "print(cm)\n",
        "\n",
        "# drawing confusion matrix\n",
        "sns.heatmap(cm,center=True)\n",
        "plt.show()"
      ],
      "execution_count": 10,
      "outputs": [
        {
          "output_type": "stream",
          "text": [
            "train_score classifier 1.0\n",
            "test_score classifier 1.0\n",
            "[[803   0]\n",
            " [  0 822]]\n"
          ],
          "name": "stdout"
        },
        {
          "output_type": "display_data",
          "data": {
            "image/png": "[encoded data removed]",
            "text/plain": [
              "<Figure size 432x288 with 2 Axes>"
            ]
          },
          "metadata": {
            "tags": [],
            "needs_background": "light"
          }
        }
      ]
    },
    {
      "cell_type": "markdown",
      "metadata": {
        "id": "_Wtu1IsTZR4E"
      },
      "source": [
        "#Support Vector Machines (SVM)\n"
      ]
    },
    {
      "cell_type": "code",
      "metadata": {
        "id": "bdv5aTXDbkR8",
        "outputId": "51901ecb-1c76-43cd-becf-4d1a5666e9f3",
        "colab": {
          "base_uri": "https://localhost:8080/",
          "height": 330
        }
      },
      "source": [
        "from sklearn.svm import SVC\n",
        "svcmodel = SVC(kernel='linear')\n",
        "svcmodel.fit(X_train,y_train)\n",
        "\n",
        "# Predicting the Test set results SVM\n",
        "y_pred = svcmodel.predict(X_test)\n",
        "\n",
        "\n",
        "#calculate the details SVM\n",
        "print('train_score svcmodel', svcmodel.score(X_train,y_train))\n",
        "print('test_score svcmodel',svcmodel.score(X_test,y_test))\n",
        "\n",
        "train_scores.append(svcmodel.score(X_train,y_train))\n",
        "test_scores.append(svcmodel.score(X_test,y_test))\n",
        "\n",
        "# Making the Confusion Matrix\n",
        "from sklearn.metrics import confusion_matrix\n",
        "cm = confusion_matrix(y_test,y_pred)\n",
        "print(cm)\n",
        "\n",
        "# drawing confusion matrix\n",
        "sns.heatmap(cm,center=True)\n",
        "plt.show()"
      ],
      "execution_count": 11,
      "outputs": [
        {
          "output_type": "stream",
          "text": [
            "train_score svcmodel 1.0\n",
            "test_score svcmodel 1.0\n",
            "[[803   0]\n",
            " [  0 822]]\n"
          ],
          "name": "stdout"
        },
        {
          "output_type": "display_data",
          "data": {
            "image/png": "[encoded data removed]",
            "text/plain": [
              "<Figure size 432x288 with 2 Axes>"
            ]
          },
          "metadata": {
            "tags": [],
            "needs_background": "light"
          }
        }
      ]
    },
    {
      "cell_type": "markdown",
      "metadata": {
        "id": "prwVdUJIZX98"
      },
      "source": [
        "#Applying KNeighborsClassifier Model \n"
      ]
    },
    {
      "cell_type": "code",
      "metadata": {
        "id": "qhimw4gMZexG",
        "outputId": "18751365-5b7f-4eb2-979a-52fe032feaed",
        "colab": {
          "base_uri": "https://localhost:8080/",
          "height": 330
        }
      },
      "source": [
        "from sklearn.neighbors import KNeighborsClassifier\n",
        "Knnclassifier_model = KNeighborsClassifier(n_neighbors=5 ,weights='uniform')\n",
        "Knnclassifier_model.fit(X_train,y_train)\n",
        "\n",
        "# Predicting the Test set results KNeighborsClassifier\n",
        "y_pred = Knnclassifier_model.predict(X_test)\n",
        "\n",
        "#calculate the details KNeighborsClassifier\n",
        "print('train_score Knnclassifier_model', Knnclassifier_model.score(X_train,y_train))\n",
        "print('test_score Knnclassifier_model',Knnclassifier_model.score(X_test,y_test))\n",
        "\n",
        "train_scores.append(Knnclassifier_model.score(X_train,y_train))\n",
        "test_scores.append(Knnclassifier_model.score(X_test,y_test))\n",
        "\n",
        "# Making the Confusion Matrix\n",
        "from sklearn.metrics import confusion_matrix\n",
        "cm = confusion_matrix(y_test,y_pred)\n",
        "print(cm)\n",
        "\n",
        "# drawing confusion matrix\n",
        "sns.heatmap(cm,center=True)\n",
        "plt.show()"
      ],
      "execution_count": 12,
      "outputs": [
        {
          "output_type": "stream",
          "text": [
            "train_score Knnclassifier_model 1.0\n",
            "test_score Knnclassifier_model 1.0\n",
            "[[803   0]\n",
            " [  0 822]]\n"
          ],
          "name": "stdout"
        },
        {
          "output_type": "display_data",
          "data": {
            "image/png": "[encoded data removed]",
            "text/plain": [
              "<Figure size 432x288 with 2 Axes>"
            ]
          },
          "metadata": {
            "tags": [],
            "needs_background": "light"
          }
        }
      ]
    },
    {
      "cell_type": "markdown",
      "metadata": {
        "id": "YyVfsov6ZfH4"
      },
      "source": [
        "#Applying Naive Bayes GaussianNB Model \n"
      ]
    },
    {
      "cell_type": "code",
      "metadata": {
        "id": "z0f_zKIsZhc7",
        "outputId": "fe02686a-78cf-424d-c9be-04f2cdae317e",
        "colab": {
          "base_uri": "https://localhost:8080/",
          "height": 330
        }
      },
      "source": [
        "from sklearn.naive_bayes import GaussianNB\n",
        "gussian_model = GaussianNB()\n",
        "gussian_model.fit(X_train,y_train)\n",
        "\n",
        "# Predicting the Test set results Naive Bayes\n",
        "y_pred = gussian_model.predict(X_test)\n",
        "\n",
        "#calculate the details Naive Bayes\n",
        "print('train_score gussian_model', gussian_model.score(X_train,y_train))\n",
        "print('test_score gussian_model',gussian_model.score(X_test,y_test))\n",
        "\n",
        "train_scores.append(gussian_model.score(X_train,y_train))\n",
        "test_scores.append(gussian_model.score(X_test,y_test))\n",
        "\n",
        "# Making the Confusion Matrix\n",
        "from sklearn.metrics import confusion_matrix\n",
        "cm = confusion_matrix(y_test,y_pred)\n",
        "print(cm)\n",
        "\n",
        "# drawing confusion matrix\n",
        "sns.heatmap(cm,center=True)\n",
        "plt.show()"
      ],
      "execution_count": 13,
      "outputs": [
        {
          "output_type": "stream",
          "text": [
            "train_score gussian_model 0.9579935374673026\n",
            "test_score gussian_model 0.9483076923076923\n",
            "[[719  84]\n",
            " [  0 822]]\n"
          ],
          "name": "stdout"
        },
        {
          "output_type": "display_data",
          "data": {
            "image/png": "[encoded data removed]",
            "text/plain": [
              "<Figure size 432x288 with 2 Axes>"
            ]
          },
          "metadata": {
            "tags": [],
            "needs_background": "light"
          }
        }
      ]
    },
    {
      "cell_type": "markdown",
      "metadata": {
        "id": "bP-WzAQuZhw5"
      },
      "source": [
        "#Applying DecisionTreeClassifier Model \n"
      ]
    },
    {
      "cell_type": "code",
      "metadata": {
        "id": "ViUWXwhnZjz2",
        "outputId": "14c70d08-a44f-4ca5-f711-87d1a077ef54",
        "colab": {
          "base_uri": "https://localhost:8080/",
          "height": 330
        }
      },
      "source": [
        "from sklearn.tree import DecisionTreeClassifier\n",
        "DT_model=DecisionTreeClassifier(criterion='gini',max_depth=3,random_state=33)\n",
        "DT_model.fit(X_train,y_train)\n",
        "\n",
        "# Predicting the Test set results DecisionTreeClassifier Model\n",
        "y_pred = DT_model.predict(X_test)\n",
        "\n",
        "\n",
        "#calculate the details DecisionTreeClassifier Model\n",
        "print('train_score DT_model', DT_model.score(X_train,y_train))\n",
        "print('test_score DT_model',DT_model.score(X_test,y_test))\n",
        "\n",
        "train_scores.append(DT_model.score(X_train,y_train))\n",
        "test_scores.append(DT_model.score(X_test,y_test))\n",
        "\n",
        "# Making the Confusion Matrix\n",
        "from sklearn.metrics import confusion_matrix\n",
        "cm = confusion_matrix(y_test,y_pred)\n",
        "print(cm)\n",
        "\n",
        "# drawing confusion matrix\n",
        "sns.heatmap(cm,center=True)\n",
        "plt.show()"
      ],
      "execution_count": 14,
      "outputs": [
        {
          "output_type": "stream",
          "text": [
            "train_score DT_model 0.9853823665179259\n",
            "test_score DT_model 0.9846153846153847\n",
            "[[780  23]\n",
            " [  2 820]]\n"
          ],
          "name": "stdout"
        },
        {
          "output_type": "display_data",
          "data": {
            "image/png": "[encoded data removed]",
            "text/plain": [
              "<Figure size 432x288 with 2 Axes>"
            ]
          },
          "metadata": {
            "tags": [],
            "needs_background": "light"
          }
        }
      ]
    },
    {
      "cell_type": "markdown",
      "metadata": {
        "id": "Uyfj49LXZkHY"
      },
      "source": [
        "#Applying NNClassifier Model \n"
      ]
    },
    {
      "cell_type": "code",
      "metadata": {
        "id": "DXwoqCo7ZmBW",
        "outputId": "9656603f-63ec-4c17-f162-7604cd74a81b",
        "colab": {
          "base_uri": "https://localhost:8080/",
          "height": 330
        }
      },
      "source": [
        "from sklearn.neural_network import MLPClassifier\n",
        "\n",
        "mlp_model = MLPClassifier(activation='tanh',alpha=0.001,random_state=33)\n",
        "mlp_model.fit(X_train,y_train)\n",
        "\n",
        "# Predicting the Test set results NNClassifier Model\n",
        "y_pred = mlp_model.predict(X_test)\n",
        "\n",
        "#calculate the details NNClassifier Model\n",
        "print('train_score mlp_model', mlp_model.score(X_train,y_train))\n",
        "print('test_score mlp_model',mlp_model.score(X_test,y_test))\n",
        "\n",
        "train_scores.append(mlp_model.score(X_train,y_train))\n",
        "test_scores.append(mlp_model.score(X_test,y_test))\n",
        "\n",
        "# Making the Confusion Matrix\n",
        "from sklearn.metrics import confusion_matrix\n",
        "cm = confusion_matrix(y_test,y_pred)\n",
        "print(cm)\n",
        "\n",
        "# drawing confusion matrix\n",
        "sns.heatmap(cm,center=True)\n",
        "plt.show()"
      ],
      "execution_count": 15,
      "outputs": [
        {
          "output_type": "stream",
          "text": [
            "train_score mlp_model 1.0\n",
            "test_score mlp_model 1.0\n",
            "[[803   0]\n",
            " [  0 822]]\n"
          ],
          "name": "stdout"
        },
        {
          "output_type": "display_data",
          "data": {
            "image/png": "[encoded data removed]",
            "text/plain": [
              "<Figure size 432x288 with 2 Axes>"
            ]
          },
          "metadata": {
            "tags": [],
            "needs_background": "light"
          }
        }
      ]
    },
    {
      "cell_type": "markdown",
      "metadata": {
        "id": "TqzrUOX5ZmUk"
      },
      "source": [
        "#Applying RandomForestClassifier Model \n"
      ]
    },
    {
      "cell_type": "code",
      "metadata": {
        "id": "FGyGPcHYZo8-",
        "outputId": "ea39241d-d181-448c-b591-77d210ed03b2",
        "colab": {
          "base_uri": "https://localhost:8080/",
          "height": 330
        }
      },
      "source": [
        "from sklearn.ensemble import RandomForestClassifier\n",
        "\n",
        "rfc= RandomForestClassifier(criterion='gini',n_estimators=100,max_depth=2,random_state=33)\n",
        "rfc.fit(X_train,y_train)\n",
        "\n",
        "# Predicting the Test set results RandomForestClassifier Model\n",
        "y_pred = rfc.predict(X_test)\n",
        "\n",
        "#calculate the details RandomForestClassifier Model\n",
        "print('train_score rfc', rfc.score(X_train,y_train))\n",
        "print('test_score rfc',rfc.score(X_test,y_test))\n",
        "\n",
        "train_scores.append(rfc.score(X_train,y_train))\n",
        "test_scores.append(rfc.score(X_test,y_test))\n",
        "\n",
        "# Making the Confusion Matrix\n",
        "from sklearn.metrics import confusion_matrix\n",
        "cm = confusion_matrix(y_test,y_pred)\n",
        "print(cm)\n",
        "\n",
        "# drawing confusion matrix\n",
        "sns.heatmap(cm,center=True)\n",
        "plt.show()"
      ],
      "execution_count": 16,
      "outputs": [
        {
          "output_type": "stream",
          "text": [
            "train_score rfc 0.9436836436374827\n",
            "test_score rfc 0.9353846153846154\n",
            "[[793  10]\n",
            " [ 95 727]]\n"
          ],
          "name": "stdout"
        },
        {
          "output_type": "display_data",
          "data": {
            "image/png": "[encoded data removed]",
            "text/plain": [
              "<Figure size 432x288 with 2 Axes>"
            ]
          },
          "metadata": {
            "tags": [],
            "needs_background": "light"
          }
        }
      ]
    },
    {
      "cell_type": "markdown",
      "metadata": {
        "id": "_SOqloRLZpJ5"
      },
      "source": [
        "#visualization"
      ]
    },
    {
      "cell_type": "code",
      "metadata": {
        "id": "38ytAkFnaMpS",
        "outputId": "c3d64b16-da27-4dbc-a0cb-75140cce9762",
        "colab": {
          "base_uri": "https://localhost:8080/",
          "height": 583
        }
      },
      "source": [
        "Labels = ['classifier', 'svcmodel', 'Knnclassifier_model', 'gussian_model','DT_model','mlp_model','rfc']\n",
        "X = np.arange(1,8)\n",
        "fig = plt.figure(figsize=(10,7))\n",
        "ax = fig.add_axes([0,0,1,1])\n",
        "plt.style.context('ggplot')\n",
        "ax.bar(X + 0.00, train_scores, color = 'b', width = 0.45,label = 'train Score')\n",
        "ax.bar(X + 0.40, test_scores, color = 'r', width = 0.45,label = 'test Score')\n",
        "for i,m in list(zip(X,train_scores)):\n",
        "  plt.text(x = i ,y = m,s = float(\"{:.2f}\".format(m)))\n",
        "for i,m in list(zip(X,test_scores)):\n",
        "  plt.text(x = i + 0.45 ,y = m,s = float(\"{:.2f}\".format(m)))\n",
        "ax.set_xlabel('Models')\n",
        "ax.set_ylabel('Scores')\n",
        "ax.set_xticks(X)\n",
        "ax.set_xticklabels(Labels)\n",
        "plt.legend()"
      ],
      "execution_count": 17,
      "outputs": [
        {
          "output_type": "execute_result",
          "data": {
            "text/plain": [
              "<matplotlib.legend.Legend at 0x7fae4a3007f0>"
            ]
          },
          "metadata": {
            "tags": []
          },
          "execution_count": 17
        },
        {
          "output_type": "display_data",
          "data": {
            "image/png": "[encoded data removed]",
            "text/plain": [
              "<Figure size 720x504 with 1 Axes>"
            ]
          },
          "metadata": {
            "tags": [],
            "needs_background": "light"
          }
        }
      ]
    }
  ]
}